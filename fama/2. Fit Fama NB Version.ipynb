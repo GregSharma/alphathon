{
 "cells": [
  {
   "cell_type": "markdown",
   "id": "619772bc-f37d-47c0-a856-7f3ebb93bba0",
   "metadata": {},
   "source": [
    " # Fama-French Factor Replication\n",
    "\n",
    " This notebook replicates the Fama-French five-factor model using WRDS data.\n",
    " The factors include:\n",
    " - SMB (Small Minus Big) - size factor\n",
    " - HML (High Minus Low) - value factor\n",
    " - RMW (Robust Minus Weak) - profitability factor\n",
    " - CMA (Conservative Minus Aggressive) - investment factor"
   ]
  },
  {
   "cell_type": "markdown",
   "id": "49a1bb51-f601-4593-acdc-1885bc50d569",
   "metadata": {},
   "source": [
    " ## Setup and Package Imports"
   ]
  },
  {
   "cell_type": "code",
   "execution_count": 1,
   "id": "a65ebe63-bb25-4b6f-bce9-9990778b0c43",
   "metadata": {},
   "outputs": [],
   "source": [
    "import pandas as pd\n",
    "import numpy as np\n",
    "import sqlite3\n",
    "import statsmodels.formula.api as smf\n",
    "from regtabletotext import prettify_result\n",
    "\n",
    "# For WRDS connection\n",
    "from sqlalchemy import create_engine\n",
    "import os\n",
    "from dotenv import load_dotenv\n",
    "\n",
    "assert load_dotenv()\n",
    "if os.getenv(\"WRDS_USER\") is None:\n",
    "    raise ValueError(\"WRDS_USER is not set\")\n",
    "if os.getenv(\"WRDS_PASSWORD\") is None:\n",
    "    raise ValueError(\"WRDS_PASSWORD is not set\")\n",
    "\n",
    "import warnings\n",
    "\n",
    "# Suppress FutureWarning about date_parser deprecation\n",
    "warnings.filterwarnings(\"ignore\", category=FutureWarning)\n",
    "warnings.filterwarnings(\"ignore\", category=DeprecationWarning)"
   ]
  },
  {
   "cell_type": "markdown",
   "id": "d1f2628e-b76b-42c1-8045-3b1a564dcae2",
   "metadata": {},
   "source": [
    "## Date Range Configuration"
   ]
  },
  {
   "cell_type": "code",
   "execution_count": 2,
   "id": "b82157a4-2a97-4905-bd1f-ba15cd9b9fb3",
   "metadata": {},
   "outputs": [],
   "source": [
    "start_date = \"01/01/2020\"\n",
    "end_date = \"12/31/2024\""
   ]
  },
  {
   "cell_type": "markdown",
   "id": "2efc44f7-4cc8-44dd-a0e6-f44a2f4897b9",
   "metadata": {},
   "source": [
    "## Connecting to WRDS"
   ]
  },
  {
   "cell_type": "code",
   "execution_count": 3,
   "id": "492419b5-8055-4c50-a4c5-95fe1f512b62",
   "metadata": {},
   "outputs": [
    {
     "name": "stdout",
     "output_type": "stream",
     "text": [
      "Connected to WRDS\n"
     ]
    }
   ],
   "source": [
    "connection_string = (\n",
    "    \"postgresql+psycopg2://\"\n",
    "    f\"{os.getenv('WRDS_USER')}:{os.getenv('WRDS_PASSWORD')}\"\n",
    "    \"@wrds-pgdata.wharton.upenn.edu:9737/wrds\"\n",
    ")\n",
    "\n",
    "wrds = create_engine(connection_string, pool_pre_ping=True)\n",
    "print(\"Connected to WRDS\")"
   ]
  },
  {
   "cell_type": "markdown",
   "id": "7209a2b9-0adf-48a2-b550-f69dc6bc6e08",
   "metadata": {},
   "source": [
    "# Downloading Monthly CRSP Data\n",
    "\n",
    " We only need monthly data for the Fama-French replication since portfolio sorts\n",
    " are annual (June) and we'll calculate factors monthly."
   ]
  },
  {
   "cell_type": "code",
   "execution_count": 5,
   "id": "099e53fd-058e-443e-bdb9-e91561d11438",
   "metadata": {},
   "outputs": [
    {
     "name": "stdout",
     "output_type": "stream",
     "text": [
      "[DEBUG] CRSP monthly (raw) date range: 2020-01-01 00:00:00 -> 2024-12-01 00:00:00 (rows=242,216)\n",
      "Downloaded 242,216 rows of CRSP data\n"
     ]
    }
   ],
   "source": [
    "TBL = 'msf'\n",
    "\n",
    "crsp_monthly_query_lines = (\n",
    "    f\"SELECT {TBL}.permno, date_trunc('month', {TBL}.mthcaldt)::date AS date, \",\n",
    "    f\"{TBL}.mthret AS ret, {TBL}.shrout, {TBL}.mthprc AS altprc, \",\n",
    "    \"ssih.primaryexch, ssih.siccd \",\n",
    "    f\"FROM crsp.{TBL}_v2 AS {TBL} \",\n",
    "    \"INNER JOIN crsp.stksecurityinfohist AS ssih \",\n",
    "    f\"ON {TBL}.permno = ssih.permno AND \",\n",
    "    f\"ssih.secinfostartdt <= {TBL}.mthcaldt AND \",\n",
    "    f\"{TBL}.mthcaldt <= COALESCE(ssih.secinfoenddt, CURRENT_DATE) \",\n",
    "    f\"WHERE {TBL}.mthcaldt BETWEEN '{start_date}' AND '{end_date}' \",\n",
    "    \"AND ssih.sharetype = 'NS' \",\n",
    "    \"AND ssih.securitytype = 'EQTY' \",\n",
    "    \"AND ssih.securitysubtype = 'COM' \",\n",
    "    \"AND ssih.usincflg = 'Y' \",\n",
    "    \"AND ssih.issuertype in ('ACOR', 'CORP') \",\n",
    "    \"AND ssih.primaryexch in ('N', 'A', 'Q') \",\n",
    "    \"AND ssih.conditionaltype in ('RW', 'NW') \",\n",
    "    \"AND ssih.tradingstatusflg = 'A'\"\n",
    ")\n",
    "\n",
    "crsp_monthly_query = \" \".join(crsp_monthly_query_lines)\n",
    "\n",
    "crsp_monthly = pd.read_sql_query(\n",
    "    sql=crsp_monthly_query, con=wrds, dtype={\"permno\": int, \"siccd\": int}, parse_dates={\"date\"}\n",
    ").assign(shrout=lambda x: x[\"shrout\"] * 1000)\n",
    "\n",
    "\n",
    "# Debug CRSP coverage\n",
    "def _debug_print_date_range_df(name, df, date_col=\"date\"):\n",
    "    if date_col in df.columns and len(df) > 0:\n",
    "        try:\n",
    "            dates = pd.to_datetime(df[date_col])\n",
    "        except Exception:\n",
    "            dates = df[date_col]\n",
    "        print(f\"[DEBUG] {name} date range: {dates.min()} -> {dates.max()} (rows={len(df):,})\")\n",
    "    else:\n",
    "        print(f\"[DEBUG] {name} is empty or missing {date_col}\")\n",
    "\n",
    "\n",
    "_debug_print_date_range_df(\"CRSP monthly (raw)\", crsp_monthly)\n",
    "\n",
    "print(f\"Downloaded {len(crsp_monthly):,} rows of CRSP data\")"
   ]
  },
  {
   "cell_type": "markdown",
   "id": "02ef343f-e096-4bc6-91bb-c927575ec8b2",
   "metadata": {},
   "source": [
    "## Prepare CRSP Data"
   ]
  },
  {
   "cell_type": "code",
   "execution_count": 6,
   "id": "03a51dc5-ed03-4003-b1f8-b33837bc72ff",
   "metadata": {},
   "outputs": [
    {
     "name": "stdout",
     "output_type": "stream",
     "text": [
      "CRSP data prepared\n",
      "[DEBUG] CRSP monthly (processed) date range: 2020-01-01 00:00:00 -> 2024-12-01 00:00:00 (rows=242,216)\n",
      "[DEBUG] Latest June available in CRSP: 2024-06-01 00:00:00\n"
     ]
    }
   ],
   "source": [
    "# Calculate market cap\n",
    "crsp_monthly = crsp_monthly.assign(mktcap=lambda x: x[\"shrout\"] * x[\"altprc\"] / 1000000).assign(\n",
    "    mktcap=lambda x: x[\"mktcap\"].replace(0, np.nan)\n",
    ")\n",
    "\n",
    "# Create lagged market cap\n",
    "mktcap_lag = crsp_monthly.assign(\n",
    "    date=lambda x: x[\"date\"] + pd.DateOffset(months=1), mktcap_lag=lambda x: x[\"mktcap\"]\n",
    ").get([\"permno\", \"date\", \"mktcap_lag\"])\n",
    "\n",
    "crsp_monthly = crsp_monthly.merge(mktcap_lag, how=\"left\", on=[\"permno\", \"date\"])\n",
    "\n",
    "\n",
    "# Exchange codes\n",
    "def assign_exchange(primaryexch):\n",
    "    if primaryexch == \"N\":\n",
    "        return \"NYSE\"\n",
    "    elif primaryexch == \"A\":\n",
    "        return \"AMEX\"\n",
    "    elif primaryexch == \"Q\":\n",
    "        return \"NASDAQ\"\n",
    "    else:\n",
    "        return \"Other\"\n",
    "\n",
    "\n",
    "crsp_monthly[\"exchange\"] = crsp_monthly[\"primaryexch\"].apply(assign_exchange)\n",
    "\n",
    "print(\"CRSP data prepared\")\n",
    "\n",
    "# Extra CRSP coverage checks\n",
    "_debug_print_date_range_df(\"CRSP monthly (processed)\", crsp_monthly)\n",
    "if (crsp_monthly[\"date\"].dt.month == 6).any():\n",
    "    june_coverage = crsp_monthly.loc[crsp_monthly[\"date\"].dt.month == 6, \"date\"].max()\n",
    "    print(f\"[DEBUG] Latest June available in CRSP: {june_coverage}\")\n",
    "else:\n",
    "    print(\"[DEBUG] No June months present in CRSP sample\")"
   ]
  },
  {
   "cell_type": "markdown",
   "id": "ff38dedc-2f86-49fa-948d-7bb824afc3bb",
   "metadata": {},
   "source": [
    "## Compute Excess Returns"
   ]
  },
  {
   "cell_type": "code",
   "execution_count": 7,
   "id": "cc73ec76-de43-4abd-afe6-e06189371745",
   "metadata": {},
   "outputs": [
    {
     "name": "stdout",
     "output_type": "stream",
     "text": [
      "Excess returns computed. Final CRSP sample: 236,939 rows\n"
     ]
    }
   ],
   "source": [
    "tidy_finance = sqlite3.connect(database=\"data/tidy_finance_python.sqlite\")\n",
    "\n",
    "factors_ff3_monthly = pd.read_sql_query(\n",
    "    sql=\"SELECT date, rf FROM factors_ff3_monthly\", con=tidy_finance, parse_dates={\"date\"}\n",
    ")\n",
    "\n",
    "crsp_monthly = (\n",
    "    crsp_monthly.merge(factors_ff3_monthly, how=\"left\", on=\"date\")\n",
    "    .assign(ret_excess=lambda x: x[\"ret\"] - x[\"rf\"])\n",
    "    .assign(ret_excess=lambda x: x[\"ret_excess\"].clip(lower=-1))\n",
    "    .drop(columns=[\"rf\"])\n",
    ")\n",
    "\n",
    "# Drop missing values\n",
    "crsp_monthly = crsp_monthly.dropna(subset=[\"ret_excess\", \"mktcap\", \"mktcap_lag\"])\n",
    "\n",
    "print(f\"Excess returns computed. Final CRSP sample: {len(crsp_monthly):,} rows\")"
   ]
  },
  {
   "cell_type": "markdown",
   "id": "fe767944-fe55-4244-99a7-77c46f9d4809",
   "metadata": {},
   "source": [
    "## Download Compustat Data"
   ]
  },
  {
   "cell_type": "code",
   "execution_count": 8,
   "id": "6519c4c3-6c22-445a-abd5-beabea52fe16",
   "metadata": {},
   "outputs": [
    {
     "name": "stdout",
     "output_type": "stream",
     "text": [
      "Downloaded 51,754 rows of Compustat data\n",
      "[DEBUG] Compustat funda date range: 2020-01-31 00:00:00 -> 2024-12-31 00:00:00 (rows=51,754)\n"
     ]
    }
   ],
   "source": [
    "compustat_query = (\n",
    "    \"SELECT gvkey, datadate, seq, ceq, at, lt, txditc, txdb, itcb, pstkrv, \"\n",
    "    \"pstkl, pstk, capx, oancf, sale, cogs, xint, xsga \"\n",
    "    \"FROM comp.funda \"\n",
    "    \"WHERE indfmt = 'INDL' \"\n",
    "    \"AND datafmt = 'STD' \"\n",
    "    \"AND consol = 'C' \"\n",
    "    \"AND curcd = 'USD' \"\n",
    "    f\"AND datadate BETWEEN '{start_date}' AND '{end_date}'\"\n",
    ")\n",
    "\n",
    "compustat = pd.read_sql_query(\n",
    "    sql=compustat_query, con=wrds, dtype={\"gvkey\": str}, parse_dates={\"datadate\"}\n",
    ")\n",
    "\n",
    "print(f\"Downloaded {len(compustat):,} rows of Compustat data\")\n",
    "_debug_print_date_range_df(\"Compustat funda\", compustat, date_col=\"datadate\")"
   ]
  },
  {
   "cell_type": "markdown",
   "id": "ab3d0342-26f5-40d5-b15f-cb3928dce81e",
   "metadata": {},
   "source": [
    "## Calculate Compustat Variables"
   ]
  },
  {
   "cell_type": "code",
   "execution_count": 9,
   "id": "60ab5556-4ed2-4a06-8998-46bbd672b9ed",
   "metadata": {},
   "outputs": [
    {
     "name": "stdout",
     "output_type": "stream",
     "text": [
      "Compustat variables calculated\n"
     ]
    }
   ],
   "source": [
    "# Calculate book equity, operating profitability, and investment\n",
    "compustat = (\n",
    "    compustat.assign(\n",
    "        be=lambda x: (\n",
    "            x[\"seq\"].combine_first(x[\"ceq\"] + x[\"pstk\"]).combine_first(x[\"at\"] - x[\"lt\"])\n",
    "            + x[\"txditc\"].combine_first(x[\"txdb\"] + x[\"itcb\"]).fillna(0)\n",
    "            - x[\"pstkrv\"].combine_first(x[\"pstkl\"]).combine_first(x[\"pstk\"]).fillna(0)\n",
    "        )\n",
    "    )\n",
    "    .assign(be=lambda x: x[\"be\"].apply(lambda y: np.nan if y <= 0 else y))\n",
    "    .assign(\n",
    "        op=lambda x: (\n",
    "            (x[\"sale\"] - x[\"cogs\"].fillna(0) - x[\"xsga\"].fillna(0) - x[\"xint\"].fillna(0)) / x[\"be\"]\n",
    "        )\n",
    "    )\n",
    ")\n",
    "\n",
    "# Keep last observation per firm-year\n",
    "compustat = (\n",
    "    compustat.assign(year=lambda x: pd.DatetimeIndex(x[\"datadate\"]).year)\n",
    "    .sort_values(\"datadate\")\n",
    "    .groupby([\"gvkey\", \"year\"])\n",
    "    .tail(1)\n",
    "    .reset_index()\n",
    ")\n",
    "\n",
    "# Calculate investment ratio\n",
    "compustat_lag = (\n",
    "    compustat.get([\"gvkey\", \"year\", \"at\"])\n",
    "    .assign(year=lambda x: x[\"year\"] + 1)\n",
    "    .rename(columns={\"at\": \"at_lag\"})\n",
    ")\n",
    "\n",
    "compustat = (\n",
    "    compustat.merge(compustat_lag, how=\"left\", on=[\"gvkey\", \"year\"])\n",
    "    .assign(inv=lambda x: x[\"at\"] / x[\"at_lag\"] - 1)\n",
    "    .assign(inv=lambda x: np.where(x[\"at_lag\"] <= 0, np.nan, x[\"inv\"]))\n",
    ")\n",
    "\n",
    "print(\"Compustat variables calculated\")"
   ]
  },
  {
   "cell_type": "markdown",
   "id": "0ec97389-d383-4005-9592-40a7e2ba57c2",
   "metadata": {},
   "source": [
    "## Link CRSP and Compustat"
   ]
  },
  {
   "cell_type": "code",
   "execution_count": 10,
   "id": "a5795b05-224e-4ab6-81bc-53ad46462cfa",
   "metadata": {},
   "outputs": [
    {
     "name": "stdout",
     "output_type": "stream",
     "text": [
      "CRSP and Compustat linked\n"
     ]
    }
   ],
   "source": [
    "ccm_linking_table_query = (\n",
    "    \"SELECT lpermno AS permno, gvkey, linkdt, \"\n",
    "    \"COALESCE(linkenddt, CURRENT_DATE) AS linkenddt \"\n",
    "    \"FROM crsp.ccmxpf_linktable \"\n",
    "    \"WHERE linktype IN ('LU', 'LC') \"\n",
    "    \"AND linkprim IN ('P', 'C')\"\n",
    ")\n",
    "\n",
    "ccm_linking_table = pd.read_sql_query(\n",
    "    sql=ccm_linking_table_query,\n",
    "    con=wrds,\n",
    "    dtype={\"permno\": int, \"gvkey\": str},\n",
    "    parse_dates={\"linkdt\", \"linkenddt\"},\n",
    ")\n",
    "\n",
    "ccm_links = (\n",
    "    crsp_monthly.merge(ccm_linking_table, how=\"inner\", on=\"permno\")\n",
    "    .query(\"~gvkey.isnull() & (date >= linkdt) & (date <= linkenddt)\")\n",
    "    .get([\"permno\", \"gvkey\", \"date\"])\n",
    ")\n",
    "\n",
    "crsp_monthly = crsp_monthly.merge(ccm_links, how=\"left\", on=[\"permno\", \"date\"])\n",
    "\n",
    "print(\"CRSP and Compustat linked\")"
   ]
  },
  {
   "cell_type": "markdown",
   "id": "a1465dba-b717-4ad5-81c7-131317dc9a8d",
   "metadata": {},
   "source": [
    "## Prepare Sorting Variables"
   ]
  },
  {
   "cell_type": "code",
   "execution_count": 11,
   "id": "84c94afa-9a21-4075-9bfc-8073b85d3ee2",
   "metadata": {},
   "outputs": [
    {
     "name": "stdout",
     "output_type": "stream",
     "text": [
      "[DEBUG] Size (June CRSP -> sorting_date) date range: 2020-07-01 00:00:00 -> 2024-07-01 00:00:00 (rows=20,058)\n",
      "[DEBUG] Market equity (Dec CRSP -> sorting_date) date range: 2021-07-01 00:00:00 -> 2025-07-01 00:00:00 (rows=20,080)\n",
      "Sorting variables prepared. 10,388 firm-year observations\n",
      "[DEBUG] Sorting variables date range: 2022-07-01 00:00:00 -> 2024-07-01 00:00:00 (rows=10,388)\n",
      "[DEBUG] Latest sorting_date present: 2024-07-01 00:00:00\n"
     ]
    }
   ],
   "source": [
    "# Size (June market cap)\n",
    "size = (\n",
    "    crsp_monthly.query(\"date.dt.month == 6\")\n",
    "    .assign(sorting_date=lambda x: (x[\"date\"] + pd.DateOffset(months=1)))\n",
    "    .get([\"permno\", \"exchange\", \"sorting_date\", \"mktcap\"])\n",
    "    .rename(columns={\"mktcap\": \"size\"})\n",
    ")\n",
    "\n",
    "_debug_print_date_range_df(\"Size (June CRSP -> sorting_date)\", size, date_col=\"sorting_date\")\n",
    "\n",
    "# Market equity (December for B/M calculation)\n",
    "market_equity = (\n",
    "    crsp_monthly.query(\"date.dt.month == 12\")\n",
    "    .assign(sorting_date=lambda x: (x[\"date\"] + pd.DateOffset(months=7)))\n",
    "    .get([\"permno\", \"gvkey\", \"sorting_date\", \"mktcap\"])\n",
    "    .rename(columns={\"mktcap\": \"me\"})\n",
    ")\n",
    "\n",
    "_debug_print_date_range_df(\n",
    "    \"Market equity (Dec CRSP -> sorting_date)\", market_equity, date_col=\"sorting_date\"\n",
    ")\n",
    "\n",
    "# For 5-factor model: all sorting variables\n",
    "other_sorting_variables = (\n",
    "    compustat.assign(\n",
    "        sorting_date=lambda x: (\n",
    "            pd.to_datetime((x[\"datadate\"].dt.year + 1).astype(str) + \"0701\", format=\"%Y%m%d\")\n",
    "        )\n",
    "    )\n",
    "    .merge(market_equity, how=\"inner\", on=[\"gvkey\", \"sorting_date\"])\n",
    "    .assign(bm=lambda x: x[\"be\"] / x[\"me\"])\n",
    "    .get([\"permno\", \"sorting_date\", \"me\", \"bm\", \"op\", \"inv\"])\n",
    ")\n",
    "\n",
    "sorting_variables = (\n",
    "    size.merge(other_sorting_variables, how=\"inner\", on=[\"permno\", \"sorting_date\"])\n",
    "    .dropna()\n",
    "    .drop_duplicates(subset=[\"permno\", \"sorting_date\"])\n",
    ")\n",
    "\n",
    "print(f\"Sorting variables prepared. {len(sorting_variables):,} firm-year observations\")\n",
    "\n",
    "# Debug sorting variables coverage\n",
    "if len(sorting_variables) > 0:\n",
    "    _debug_print_date_range_df(\"Sorting variables\", sorting_variables, date_col=\"sorting_date\")\n",
    "    latest_sorting_date = sorting_variables[\"sorting_date\"].max()\n",
    "    print(f\"[DEBUG] Latest sorting_date present: {latest_sorting_date}\")\n",
    "else:\n",
    "    print(\"[DEBUG] No sorting variables created\")"
   ]
  },
  {
   "cell_type": "markdown",
   "id": "5c4fa73a-1348-4de9-ba5f-47807736b107",
   "metadata": {},
   "source": [
    "## Portfolio Sorts"
   ]
  },
  {
   "cell_type": "code",
   "execution_count": 12,
   "id": "dff03d65-4044-42d3-b283-52046f79af98",
   "metadata": {},
   "outputs": [
    {
     "name": "stdout",
     "output_type": "stream",
     "text": [
      "Portfolio assignments created. 10,388 stock-year assignments\n"
     ]
    }
   ],
   "source": [
    "def assign_portfolio(data, sorting_variable, percentiles):\n",
    "    \"\"\"Assign portfolios to a bin according to a sorting variable.\"\"\"\n",
    "\n",
    "    breakpoints = (\n",
    "        data.query(\"exchange == 'NYSE'\")\n",
    "        .get(sorting_variable)\n",
    "        .quantile([0] + percentiles + [1], interpolation=\"linear\")\n",
    "        .drop_duplicates()\n",
    "    )\n",
    "    breakpoints.iloc[0] = -np.inf\n",
    "    breakpoints.iloc[breakpoints.size - 1] = np.inf\n",
    "\n",
    "    assigned_portfolios = pd.cut(\n",
    "        data[sorting_variable],\n",
    "        bins=breakpoints,\n",
    "        labels=pd.Series(range(1, breakpoints.size)),\n",
    "        include_lowest=True,\n",
    "        right=False,\n",
    "    )\n",
    "\n",
    "    return assigned_portfolios\n",
    "\n",
    "\n",
    "# Create portfolios\n",
    "portfolios = (\n",
    "    sorting_variables.groupby(\"sorting_date\")\n",
    "    .apply(lambda x: x.assign(portfolio_size=assign_portfolio(x, \"size\", [0, 0.5, 1])))\n",
    "    .reset_index(drop=True)\n",
    "    .groupby([\"sorting_date\", \"portfolio_size\"])\n",
    "    .apply(\n",
    "        lambda x: x.assign(\n",
    "            portfolio_bm=assign_portfolio(x, \"bm\", [0, 0.3, 0.7, 1]),\n",
    "            portfolio_op=assign_portfolio(x, \"op\", [0, 0.3, 0.7, 1]),\n",
    "            portfolio_inv=assign_portfolio(x, \"inv\", [0, 0.3, 0.7, 1]),\n",
    "        )\n",
    "    )\n",
    "    .reset_index(drop=True)\n",
    "    .get(\n",
    "        [\n",
    "            \"permno\",\n",
    "            \"sorting_date\",\n",
    "            \"portfolio_size\",\n",
    "            \"portfolio_bm\",\n",
    "            \"portfolio_op\",\n",
    "            \"portfolio_inv\",\n",
    "        ]\n",
    "    )\n",
    ")\n",
    "\n",
    "print(f\"Portfolio assignments created. {len(portfolios):,} stock-year assignments\")"
   ]
  },
  {
   "cell_type": "markdown",
   "id": "82157e07-b2a5-42f6-922b-0dc8b4cead30",
   "metadata": {},
   "source": [
    "## Save Portfolio Weights to CSV"
   ]
  },
  {
   "cell_type": "code",
   "execution_count": 13,
   "id": "704f1b8c-04f7-43f8-9bf3-55a7a8d1dde9",
   "metadata": {},
   "outputs": [
    {
     "name": "stdout",
     "output_type": "stream",
     "text": [
      "Saved 3,350 portfolio assignments for 2025 to CSV\n",
      "Saved 3,350 portfolio assignments for latest date 2024-07-01 to CSV\n",
      "Saved 10,388 total portfolio assignments to CSV\n",
      "\n",
      "Sample of portfolio assignments:\n",
      "      permno sorting_date portfolio_size portfolio_bm portfolio_op  \\\n",
      "7038   14636   2024-07-01              1            2            2   \n",
      "7039   14647   2024-07-01              1            2            1   \n",
      "7040   14650   2024-07-01              1            3            2   \n",
      "7041   14653   2024-07-01              1            2            2   \n",
      "7042   14663   2024-07-01              1            2            2   \n",
      "7043   14668   2024-07-01              1            2            3   \n",
      "7044   14670   2024-07-01              1            1            2   \n",
      "7045   14677   2024-07-01              1            2            1   \n",
      "7046   14682   2024-07-01              1            3            2   \n",
      "7047   14684   2024-07-01              1            2            2   \n",
      "\n",
      "     portfolio_inv exchange        size  \n",
      "7038             3     AMEX    39.50830  \n",
      "7039             1   NASDAQ   196.66034  \n",
      "7040             2   NASDAQ   199.56042  \n",
      "7041             3   NASDAQ   785.70048  \n",
      "7042             2   NASDAQ   179.14160  \n",
      "7043             3   NASDAQ    75.71200  \n",
      "7044             3     NYSE  3444.42371  \n",
      "7045             1   NASDAQ   288.03512  \n",
      "7046             1     NYSE   356.73344  \n",
      "7047             3     NYSE   889.08274  \n"
     ]
    }
   ],
   "source": [
    "# Merge with size to get the weights\n",
    "portfolios_with_weights = portfolios.merge(size, how=\"left\", on=[\"permno\", \"sorting_date\"])\n",
    "\n",
    "# Save current year's portfolios (e.g., 2025-07-01 through 2026-06-30)\n",
    "current_year_portfolios = portfolios_with_weights.query(\"sorting_date == '2024-07-01'\")\n",
    "\n",
    "# Write to CSV\n",
    "if len(current_year_portfolios) > 0:\n",
    "    current_year_portfolios.to_csv(\"fama_french_portfolios_2025.csv\", index=False)\n",
    "    print(f\"Saved {len(current_year_portfolios):,} portfolio assignments for 2025 to CSV\")\n",
    "else:\n",
    "    print(\"No 2025 portfolios found. Data may not extend to 2025.\")\n",
    "\n",
    "# Always also save latest available portfolios for visibility\n",
    "if len(portfolios_with_weights) > 0:\n",
    "    latest_available_date = portfolios_with_weights[\"sorting_date\"].max()\n",
    "    latest_portfolios = portfolios_with_weights.query(\"sorting_date == @latest_available_date\")\n",
    "    latest_portfolios.to_csv(\"fama_french_portfolios_latest.csv\", index=False)\n",
    "    print(\n",
    "        f\"Saved {len(latest_portfolios):,} portfolio assignments for latest date {latest_available_date.date()} to CSV\"\n",
    "    )\n",
    "\n",
    "# Optional: Save all historical portfolios\n",
    "portfolios_with_weights.to_csv(\"fama_french_portfolios_all_years.csv\", index=False)\n",
    "print(f\"Saved {len(portfolios_with_weights):,} total portfolio assignments to CSV\")\n",
    "\n",
    "# Display sample\n",
    "print(\"\\nSample of portfolio assignments:\")\n",
    "print(current_year_portfolios.head(10))"
   ]
  },
  {
   "cell_type": "markdown",
   "id": "ba65d758-7902-4cd0-b796-13c5fc6af799",
   "metadata": {},
   "source": [
    "## Merge Portfolios with Returns"
   ]
  },
  {
   "cell_type": "code",
   "execution_count": 14,
   "id": "d6c16355-0d42-4f2a-af5b-65555afaa557",
   "metadata": {},
   "outputs": [
    {
     "name": "stdout",
     "output_type": "stream",
     "text": [
      "Portfolios merged with returns. 101,492 stock-month observations\n"
     ]
    }
   ],
   "source": [
    "portfolios = crsp_monthly.assign(\n",
    "    sorting_date=lambda x: (\n",
    "        pd.to_datetime(\n",
    "            x[\"date\"].apply(\n",
    "                lambda x: str(x.year - 1) + \"0701\" if x.month <= 6 else str(x.year) + \"0701\"\n",
    "            )\n",
    "        )\n",
    "    )\n",
    ").merge(portfolios, how=\"inner\", on=[\"permno\", \"sorting_date\"])\n",
    "\n",
    "# print(portfolios.head(10))\n",
    "print(f\"Portfolios merged with returns. {len(portfolios):,} stock-month observations\")"
   ]
  },
  {
   "cell_type": "markdown",
   "id": "44e265d2-6f67-4741-8299-aee61245df37",
   "metadata": {},
   "source": [
    "## Calculate Fama-French Five Factors"
   ]
  },
  {
   "cell_type": "code",
   "execution_count": 15,
   "id": "301a89f4-71e2-4bd9-ba1f-03b39c367fae",
   "metadata": {},
   "outputs": [
    {
     "name": "stdout",
     "output_type": "stream",
     "text": [
      "Factors calculated for 30 months\n",
      "\n",
      "Sample of replicated factors:\n"
     ]
    },
    {
     "data": {
      "text/html": [
       "<div>\n",
       "<style scoped>\n",
       "    .dataframe tbody tr th:only-of-type {\n",
       "        vertical-align: middle;\n",
       "    }\n",
       "\n",
       "    .dataframe tbody tr th {\n",
       "        vertical-align: top;\n",
       "    }\n",
       "\n",
       "    .dataframe thead th {\n",
       "        text-align: right;\n",
       "    }\n",
       "</style>\n",
       "<table border=\"1\" class=\"dataframe\">\n",
       "  <thead>\n",
       "    <tr style=\"text-align: right;\">\n",
       "      <th></th>\n",
       "      <th>date</th>\n",
       "      <th>smb_replicated</th>\n",
       "      <th>hml_replicated</th>\n",
       "      <th>rmw_replicated</th>\n",
       "      <th>cma_replicated</th>\n",
       "    </tr>\n",
       "  </thead>\n",
       "  <tbody>\n",
       "    <tr>\n",
       "      <th>0</th>\n",
       "      <td>2022-07-01</td>\n",
       "      <td>0.015304</td>\n",
       "      <td>-0.055940</td>\n",
       "      <td>0.019041</td>\n",
       "      <td>-0.062455</td>\n",
       "    </tr>\n",
       "    <tr>\n",
       "      <th>1</th>\n",
       "      <td>2022-08-01</td>\n",
       "      <td>0.016976</td>\n",
       "      <td>0.013382</td>\n",
       "      <td>-0.048821</td>\n",
       "      <td>0.017711</td>\n",
       "    </tr>\n",
       "    <tr>\n",
       "      <th>2</th>\n",
       "      <td>2022-09-01</td>\n",
       "      <td>-0.009955</td>\n",
       "      <td>0.000102</td>\n",
       "      <td>-0.010350</td>\n",
       "      <td>-0.006050</td>\n",
       "    </tr>\n",
       "    <tr>\n",
       "      <th>3</th>\n",
       "      <td>2022-10-01</td>\n",
       "      <td>0.018429</td>\n",
       "      <td>0.071873</td>\n",
       "      <td>0.043736</td>\n",
       "      <td>0.071143</td>\n",
       "    </tr>\n",
       "    <tr>\n",
       "      <th>4</th>\n",
       "      <td>2022-11-01</td>\n",
       "      <td>-0.031833</td>\n",
       "      <td>0.012954</td>\n",
       "      <td>0.060826</td>\n",
       "      <td>0.033395</td>\n",
       "    </tr>\n",
       "    <tr>\n",
       "      <th>5</th>\n",
       "      <td>2022-12-01</td>\n",
       "      <td>-0.001374</td>\n",
       "      <td>0.015827</td>\n",
       "      <td>-0.003689</td>\n",
       "      <td>0.045030</td>\n",
       "    </tr>\n",
       "    <tr>\n",
       "      <th>6</th>\n",
       "      <td>2023-01-01</td>\n",
       "      <td>0.043654</td>\n",
       "      <td>-0.047145</td>\n",
       "      <td>-0.025974</td>\n",
       "      <td>-0.047887</td>\n",
       "    </tr>\n",
       "    <tr>\n",
       "      <th>7</th>\n",
       "      <td>2023-02-01</td>\n",
       "      <td>0.002606</td>\n",
       "      <td>-0.009117</td>\n",
       "      <td>0.019184</td>\n",
       "      <td>-0.009747</td>\n",
       "    </tr>\n",
       "    <tr>\n",
       "      <th>8</th>\n",
       "      <td>2023-03-01</td>\n",
       "      <td>-0.077320</td>\n",
       "      <td>-0.094865</td>\n",
       "      <td>0.025797</td>\n",
       "      <td>-0.018504</td>\n",
       "    </tr>\n",
       "    <tr>\n",
       "      <th>9</th>\n",
       "      <td>2023-04-01</td>\n",
       "      <td>-0.027349</td>\n",
       "      <td>-0.000460</td>\n",
       "      <td>0.014216</td>\n",
       "      <td>0.027203</td>\n",
       "    </tr>\n",
       "    <tr>\n",
       "      <th>10</th>\n",
       "      <td>2023-05-01</td>\n",
       "      <td>-0.003471</td>\n",
       "      <td>-0.081406</td>\n",
       "      <td>-0.018511</td>\n",
       "      <td>-0.071200</td>\n",
       "    </tr>\n",
       "    <tr>\n",
       "      <th>11</th>\n",
       "      <td>2023-06-01</td>\n",
       "      <td>0.011016</td>\n",
       "      <td>-0.008170</td>\n",
       "      <td>0.031712</td>\n",
       "      <td>-0.022299</td>\n",
       "    </tr>\n",
       "    <tr>\n",
       "      <th>12</th>\n",
       "      <td>2023-07-01</td>\n",
       "      <td>0.033865</td>\n",
       "      <td>0.038541</td>\n",
       "      <td>-0.003890</td>\n",
       "      <td>0.006086</td>\n",
       "    </tr>\n",
       "    <tr>\n",
       "      <th>13</th>\n",
       "      <td>2023-08-01</td>\n",
       "      <td>-0.039440</td>\n",
       "      <td>-0.011028</td>\n",
       "      <td>0.044829</td>\n",
       "      <td>-0.023002</td>\n",
       "    </tr>\n",
       "    <tr>\n",
       "      <th>14</th>\n",
       "      <td>2023-09-01</td>\n",
       "      <td>-0.019773</td>\n",
       "      <td>0.012027</td>\n",
       "      <td>0.027167</td>\n",
       "      <td>-0.008322</td>\n",
       "    </tr>\n",
       "    <tr>\n",
       "      <th>15</th>\n",
       "      <td>2023-10-01</td>\n",
       "      <td>-0.046618</td>\n",
       "      <td>-0.009928</td>\n",
       "      <td>0.044121</td>\n",
       "      <td>-0.004562</td>\n",
       "    </tr>\n",
       "    <tr>\n",
       "      <th>16</th>\n",
       "      <td>2023-11-01</td>\n",
       "      <td>0.005026</td>\n",
       "      <td>0.001926</td>\n",
       "      <td>-0.038980</td>\n",
       "      <td>-0.012334</td>\n",
       "    </tr>\n",
       "    <tr>\n",
       "      <th>17</th>\n",
       "      <td>2023-12-01</td>\n",
       "      <td>0.081861</td>\n",
       "      <td>0.037706</td>\n",
       "      <td>-0.034533</td>\n",
       "      <td>0.017935</td>\n",
       "    </tr>\n",
       "    <tr>\n",
       "      <th>18</th>\n",
       "      <td>2024-01-01</td>\n",
       "      <td>-0.059907</td>\n",
       "      <td>-0.015905</td>\n",
       "      <td>0.010061</td>\n",
       "      <td>-0.005557</td>\n",
       "    </tr>\n",
       "    <tr>\n",
       "      <th>19</th>\n",
       "      <td>2024-02-01</td>\n",
       "      <td>-0.004189</td>\n",
       "      <td>-0.026541</td>\n",
       "      <td>-0.033645</td>\n",
       "      <td>-0.015201</td>\n",
       "    </tr>\n",
       "    <tr>\n",
       "      <th>20</th>\n",
       "      <td>2024-03-01</td>\n",
       "      <td>-0.007822</td>\n",
       "      <td>0.052253</td>\n",
       "      <td>0.013490</td>\n",
       "      <td>0.011594</td>\n",
       "    </tr>\n",
       "    <tr>\n",
       "      <th>21</th>\n",
       "      <td>2024-04-01</td>\n",
       "      <td>-0.032138</td>\n",
       "      <td>-0.007180</td>\n",
       "      <td>0.017317</td>\n",
       "      <td>-0.003746</td>\n",
       "    </tr>\n",
       "    <tr>\n",
       "      <th>22</th>\n",
       "      <td>2024-05-01</td>\n",
       "      <td>0.004039</td>\n",
       "      <td>-0.013973</td>\n",
       "      <td>0.023846</td>\n",
       "      <td>-0.033101</td>\n",
       "    </tr>\n",
       "    <tr>\n",
       "      <th>23</th>\n",
       "      <td>2024-06-01</td>\n",
       "      <td>-0.046456</td>\n",
       "      <td>-0.046897</td>\n",
       "      <td>0.011974</td>\n",
       "      <td>-0.024386</td>\n",
       "    </tr>\n",
       "    <tr>\n",
       "      <th>24</th>\n",
       "      <td>2024-07-01</td>\n",
       "      <td>0.086552</td>\n",
       "      <td>0.058285</td>\n",
       "      <td>-0.004714</td>\n",
       "      <td>0.012918</td>\n",
       "    </tr>\n",
       "    <tr>\n",
       "      <th>25</th>\n",
       "      <td>2024-08-01</td>\n",
       "      <td>-0.038064</td>\n",
       "      <td>-0.008403</td>\n",
       "      <td>0.006684</td>\n",
       "      <td>0.012111</td>\n",
       "    </tr>\n",
       "    <tr>\n",
       "      <th>26</th>\n",
       "      <td>2024-09-01</td>\n",
       "      <td>-0.012304</td>\n",
       "      <td>-0.015873</td>\n",
       "      <td>0.002017</td>\n",
       "      <td>0.003787</td>\n",
       "    </tr>\n",
       "    <tr>\n",
       "      <th>27</th>\n",
       "      <td>2024-10-01</td>\n",
       "      <td>-0.005226</td>\n",
       "      <td>0.011106</td>\n",
       "      <td>-0.019090</td>\n",
       "      <td>0.003034</td>\n",
       "    </tr>\n",
       "    <tr>\n",
       "      <th>28</th>\n",
       "      <td>2024-11-01</td>\n",
       "      <td>0.051419</td>\n",
       "      <td>-0.003014</td>\n",
       "      <td>-0.025846</td>\n",
       "      <td>-0.017893</td>\n",
       "    </tr>\n",
       "    <tr>\n",
       "      <th>29</th>\n",
       "      <td>2024-12-01</td>\n",
       "      <td>-0.038353</td>\n",
       "      <td>-0.029528</td>\n",
       "      <td>0.017116</td>\n",
       "      <td>0.016891</td>\n",
       "    </tr>\n",
       "  </tbody>\n",
       "</table>\n",
       "</div>"
      ],
      "text/plain": [
       "         date  smb_replicated  hml_replicated  rmw_replicated  cma_replicated\n",
       "0  2022-07-01        0.015304       -0.055940        0.019041       -0.062455\n",
       "1  2022-08-01        0.016976        0.013382       -0.048821        0.017711\n",
       "2  2022-09-01       -0.009955        0.000102       -0.010350       -0.006050\n",
       "3  2022-10-01        0.018429        0.071873        0.043736        0.071143\n",
       "4  2022-11-01       -0.031833        0.012954        0.060826        0.033395\n",
       "5  2022-12-01       -0.001374        0.015827       -0.003689        0.045030\n",
       "6  2023-01-01        0.043654       -0.047145       -0.025974       -0.047887\n",
       "7  2023-02-01        0.002606       -0.009117        0.019184       -0.009747\n",
       "8  2023-03-01       -0.077320       -0.094865        0.025797       -0.018504\n",
       "9  2023-04-01       -0.027349       -0.000460        0.014216        0.027203\n",
       "10 2023-05-01       -0.003471       -0.081406       -0.018511       -0.071200\n",
       "11 2023-06-01        0.011016       -0.008170        0.031712       -0.022299\n",
       "12 2023-07-01        0.033865        0.038541       -0.003890        0.006086\n",
       "13 2023-08-01       -0.039440       -0.011028        0.044829       -0.023002\n",
       "14 2023-09-01       -0.019773        0.012027        0.027167       -0.008322\n",
       "15 2023-10-01       -0.046618       -0.009928        0.044121       -0.004562\n",
       "16 2023-11-01        0.005026        0.001926       -0.038980       -0.012334\n",
       "17 2023-12-01        0.081861        0.037706       -0.034533        0.017935\n",
       "18 2024-01-01       -0.059907       -0.015905        0.010061       -0.005557\n",
       "19 2024-02-01       -0.004189       -0.026541       -0.033645       -0.015201\n",
       "20 2024-03-01       -0.007822        0.052253        0.013490        0.011594\n",
       "21 2024-04-01       -0.032138       -0.007180        0.017317       -0.003746\n",
       "22 2024-05-01        0.004039       -0.013973        0.023846       -0.033101\n",
       "23 2024-06-01       -0.046456       -0.046897        0.011974       -0.024386\n",
       "24 2024-07-01        0.086552        0.058285       -0.004714        0.012918\n",
       "25 2024-08-01       -0.038064       -0.008403        0.006684        0.012111\n",
       "26 2024-09-01       -0.012304       -0.015873        0.002017        0.003787\n",
       "27 2024-10-01       -0.005226        0.011106       -0.019090        0.003034\n",
       "28 2024-11-01        0.051419       -0.003014       -0.025846       -0.017893\n",
       "29 2024-12-01       -0.038353       -0.029528        0.017116        0.016891"
      ]
     },
     "execution_count": 15,
     "metadata": {},
     "output_type": "execute_result"
    }
   ],
   "source": [
    "# Value factor (HML)\n",
    "portfolios_value = (\n",
    "    portfolios.groupby([\"portfolio_size\", \"portfolio_bm\", \"date\"])\n",
    "    .apply(lambda x: pd.Series({\"ret\": np.average(x[\"ret_excess\"], weights=x[\"mktcap_lag\"])}))\n",
    "    .reset_index()\n",
    ")\n",
    "\n",
    "factors_value = (\n",
    "    portfolios_value.groupby(\"date\")\n",
    "    .apply(\n",
    "        lambda x: pd.Series(\n",
    "            {\n",
    "                \"hml_replicated\": (\n",
    "                    x[\"ret\"][x[\"portfolio_bm\"] == 3].mean()\n",
    "                    - x[\"ret\"][x[\"portfolio_bm\"] == 1].mean()\n",
    "                )\n",
    "            }\n",
    "        )\n",
    "    )\n",
    "    .reset_index()\n",
    ")\n",
    "\n",
    "# Profitability factor (RMW)\n",
    "portfolios_profitability = (\n",
    "    portfolios.groupby([\"portfolio_size\", \"portfolio_op\", \"date\"])\n",
    "    .apply(lambda x: pd.Series({\"ret\": np.average(x[\"ret_excess\"], weights=x[\"mktcap_lag\"])}))\n",
    "    .reset_index()\n",
    ")\n",
    "\n",
    "factors_profitability = (\n",
    "    portfolios_profitability.groupby(\"date\")\n",
    "    .apply(\n",
    "        lambda x: pd.Series(\n",
    "            {\n",
    "                \"rmw_replicated\": (\n",
    "                    x[\"ret\"][x[\"portfolio_op\"] == 3].mean()\n",
    "                    - x[\"ret\"][x[\"portfolio_op\"] == 1].mean()\n",
    "                )\n",
    "            }\n",
    "        )\n",
    "    )\n",
    "    .reset_index()\n",
    ")\n",
    "\n",
    "# Investment factor (CMA)\n",
    "portfolios_investment = (\n",
    "    portfolios.groupby([\"portfolio_size\", \"portfolio_inv\", \"date\"])\n",
    "    .apply(lambda x: pd.Series({\"ret\": np.average(x[\"ret_excess\"], weights=x[\"mktcap_lag\"])}))\n",
    "    .reset_index()\n",
    ")\n",
    "\n",
    "factors_investment = (\n",
    "    portfolios_investment.groupby(\"date\")\n",
    "    .apply(\n",
    "        lambda x: pd.Series(\n",
    "            {\n",
    "                \"cma_replicated\": (\n",
    "                    x[\"ret\"][x[\"portfolio_inv\"] == 1].mean()\n",
    "                    - x[\"ret\"][x[\"portfolio_inv\"] == 3].mean()\n",
    "                )\n",
    "            }\n",
    "        )\n",
    "    )\n",
    "    .reset_index()\n",
    ")\n",
    "\n",
    "# Size factor (SMB)\n",
    "factors_size = (\n",
    "    pd.concat(\n",
    "        [portfolios_value, portfolios_profitability, portfolios_investment], ignore_index=True\n",
    "    )\n",
    "    .groupby(\"date\")\n",
    "    .apply(\n",
    "        lambda x: pd.Series(\n",
    "            {\n",
    "                \"smb_replicated\": (\n",
    "                    x[\"ret\"][x[\"portfolio_size\"] == 1].mean()\n",
    "                    - x[\"ret\"][x[\"portfolio_size\"] == 2].mean()\n",
    "                )\n",
    "            }\n",
    "        )\n",
    "    )\n",
    "    .reset_index()\n",
    ")\n",
    "\n",
    "# Combine all factors\n",
    "factors_replicated = (\n",
    "    factors_size.merge(factors_value, how=\"outer\", on=\"date\")\n",
    "    .merge(factors_profitability, how=\"outer\", on=\"date\")\n",
    "    .merge(factors_investment, how=\"outer\", on=\"date\")\n",
    ")\n",
    "\n",
    "print(f\"Factors calculated for {len(factors_replicated)} months\")\n",
    "print(\"\\nSample of replicated factors:\")\n",
    "factors_replicated"
   ]
  },
  {
   "cell_type": "code",
   "execution_count": 16,
   "metadata": {},
   "outputs": [
    {
     "name": "stdout",
     "output_type": "stream",
     "text": [
      "MKT-RF portfolio contains 3240 stocks\n"
     ]
    }
   ],
   "source": [
    "# === Factor weights by permno ===\n",
    "\n",
    "def get_factor_weights(portfolios, date, factor_type):\n",
    "    df = portfolios[portfolios[\"date\"] == date].copy()\n",
    "\n",
    "    if factor_type == \"HML\":  # High minus Low book-to-market\n",
    "        long = df[df[\"portfolio_bm\"] == 3]\n",
    "        short = df[df[\"portfolio_bm\"] == 1]\n",
    "    elif factor_type == \"SMB\":  # Small minus Big\n",
    "        long = df[df[\"portfolio_size\"] == 1]\n",
    "        short = df[df[\"portfolio_size\"] == 2]\n",
    "    elif factor_type == \"RMW\":  # Robust minus Weak profitability\n",
    "        long = df[df[\"portfolio_op\"] == 3]\n",
    "        short = df[df[\"portfolio_op\"] == 1]\n",
    "    elif factor_type == \"CMA\":  # Conservative minus Aggressive investment\n",
    "        long = df[df[\"portfolio_inv\"] == 1]\n",
    "        short = df[df[\"portfolio_inv\"] == 3]\n",
    "    else:\n",
    "        raise ValueError(\"Unknown factor type\")\n",
    "\n",
    "    # Normalize weights (market-cap weighted within each leg, then combine)\n",
    "    long_weights = long[\"mktcap_lag\"] / long[\"mktcap_lag\"].sum()\n",
    "    short_weights = short[\"mktcap_lag\"] / short[\"mktcap_lag\"].sum()\n",
    "\n",
    "    weights = pd.concat([\n",
    "        pd.Series(long_weights.values, index=long[\"permno\"]),\n",
    "        pd.Series(-short_weights.values, index=short[\"permno\"])\n",
    "    ])\n",
    "\n",
    "    return weights.to_dict()\n",
    "\n",
    "\n",
    "def get_mkt_rf_weights(portfolios, date):\n",
    "    \"\"\"\n",
    "    Get market portfolio weights: equal mcap-weighted portfolio across all stocks\n",
    "    \"\"\"\n",
    "    df = portfolios[portfolios[\"date\"] == date].copy()\n",
    "    total_mktcap = df[\"mktcap_lag\"].sum()\n",
    "    weights = df[\"mktcap_lag\"] / total_mktcap\n",
    "    return dict(zip(df[\"permno\"], weights))\n",
    "\n",
    "\n",
    "# Example: factor weight dicts for the latest available month\n",
    "latest_date = portfolios[\"date\"].max()\n",
    "\n",
    "factor_weights = {\n",
    "    \"HML\": get_factor_weights(portfolios, latest_date, \"HML\"),\n",
    "    \"SMB\": get_factor_weights(portfolios, latest_date, \"SMB\"),\n",
    "    \"RMW\": get_factor_weights(portfolios, latest_date, \"RMW\"),\n",
    "    \"CMA\": get_factor_weights(portfolios, latest_date, \"CMA\"),\n",
    "}\n",
    "\n",
    "# Get MKT-RF weights from union of all permnos in factor portfolios\n",
    "all_permnos = set()\n",
    "for factor_weights_dict in factor_weights.values():\n",
    "    all_permnos.update(factor_weights_dict.keys())\n",
    "\n",
    "mkt_rf_weights = get_mkt_rf_weights(portfolios, latest_date)\n",
    "mkt_rf_weights_filtered = {permno: weight for permno, weight in mkt_rf_weights.items() \n",
    "                          if permno in all_permnos}\n",
    "\n",
    "# Preview sample of one factor dict\n",
    "list(factor_weights[\"HML\"].items())[:10]\n",
    "\n",
    "print(f\"MKT-RF portfolio contains {len(mkt_rf_weights_filtered)} stocks\")\n"
   ]
  },
  {
   "cell_type": "code",
   "execution_count": 25,
   "metadata": {},
   "outputs": [
    {
     "data": {
      "text/plain": [
       "[(10066, 6.47584425835353e-06),\n",
       " (10252, 0.00039344571116322865),\n",
       " (10253, 9.219855375987306e-07),\n",
       " (10421, 0.0005918482606140543),\n",
       " (10516, 0.003341906448337647),\n",
       " (10629, 0.0007887797356421947),\n",
       " (10777, 0.0038113606191324916),\n",
       " (10932, 0.0013544809599668644),\n",
       " (10933, 0.0029331157881417763),\n",
       " (11006, 4.172423209168617e-05)]"
      ]
     },
     "execution_count": 25,
     "metadata": {},
     "output_type": "execute_result"
    }
   ],
   "source": [
    "latest_date = portfolios[\"date\"].max()\n",
    "\n",
    "factor_weights = {\n",
    "    \"HML\": get_factor_weights(portfolios, latest_date, \"HML\"),\n",
    "    \"SMB\": get_factor_weights(portfolios, latest_date, \"SMB\"),\n",
    "    \"RMW\": get_factor_weights(portfolios, latest_date, \"RMW\"),\n",
    "    \"CMA\": get_factor_weights(portfolios, latest_date, \"CMA\"),\n",
    "}\n",
    "\n",
    "# Preview sample of one factor dict\n",
    "list(factor_weights[\"HML\"].items())[:10]\n"
   ]
  },
  {
   "cell_type": "code",
   "execution_count": 19,
   "metadata": {},
   "outputs": [],
   "source": [
    "def build_permno_to_ticker_map(wrds):\n",
    "    \"\"\"\n",
    "    Build a permno -> ticker mapping dict using CRSP stocknames table.\n",
    "    Uses the most recent ticker per permno.\n",
    "    \"\"\"\n",
    "    df = pd.read_sql_query(\n",
    "        \"SELECT permno, ticker, namedt, nameenddt FROM crsp.stocknames\",\n",
    "        con=wrds\n",
    "    )\n",
    "    # Keep most recent ticker record for each permno\n",
    "    df = df.sort_values([\"permno\", \"nameenddt\"]).drop_duplicates(\"permno\", keep=\"last\")\n",
    "    return dict(zip(df[\"permno\"], df[\"ticker\"]))\n",
    "\n",
    "# Build the mapping once\n",
    "permno_to_ticker = build_permno_to_ticker_map(wrds)\n"
   ]
  },
  {
   "cell_type": "code",
   "execution_count": 20,
   "metadata": {},
   "outputs": [],
   "source": [
    "def map_weights_to_tickers(weight_dict, permno_to_ticker):\n",
    "    \"\"\"\n",
    "    Convert a {permno: weight} dict to {ticker: weight}.\n",
    "    Drops entries where ticker is missing.\n",
    "    \"\"\"\n",
    "    return {\n",
    "        permno_to_ticker.get(permno): weight\n",
    "        for permno, weight in weight_dict.items()\n",
    "        if permno_to_ticker.get(permno) is not None\n",
    "    }\n"
   ]
  },
  {
   "cell_type": "code",
   "execution_count": 26,
   "metadata": {},
   "outputs": [],
   "source": [
    "# factor_weights is still keyed by permno\n",
    "factor_weights = {\n",
    "    \"HML\": get_factor_weights(portfolios, latest_date, \"HML\"),\n",
    "    \"SMB\": get_factor_weights(portfolios, latest_date, \"SMB\"),\n",
    "    \"RMW\": get_factor_weights(portfolios, latest_date, \"RMW\"),\n",
    "    \"CMA\": get_factor_weights(portfolios, latest_date, \"CMA\"),\n",
    "    \"MKT-RF\": get_mkt_rf_weights(portfolios, latest_date),\n",
    "}\n",
    "\n",
    "# Convert to ticker-based dicts\n",
    "factor_weights_tickers = {\n",
    "    factor: map_weights_to_tickers(weights, permno_to_ticker)\n",
    "    for factor, weights in factor_weights.items()\n",
    "}\n"
   ]
  },
  {
   "cell_type": "code",
   "execution_count": 27,
   "metadata": {},
   "outputs": [
    {
     "name": "stdout",
     "output_type": "stream",
     "text": [
      "Factor weights saved to factor_weights_tickers.json\n"
     ]
    },
    {
     "data": {
      "text/plain": [
       "dict_keys(['HML', 'SMB', 'RMW', 'CMA', 'MKT-RF'])"
      ]
     },
     "execution_count": 27,
     "metadata": {},
     "output_type": "execute_result"
    }
   ],
   "source": [
    "# Save factor weights to file\n",
    "import json\n",
    "\n",
    "with open('factor_weights_tickers.json', 'w') as f:\n",
    "    json.dump(factor_weights_tickers, f, indent=2)\n",
    "\n",
    "print(\"Factor weights saved to factor_weights_tickers.json\")\n",
    "factor_weights_tickers.keys()"
   ]
  },
  {
   "cell_type": "markdown",
   "id": "bf927be7-d995-4123-94ae-014d99b62d7d",
   "metadata": {},
   "source": [
    "## Replication Evaluation"
   ]
  },
  {
   "cell_type": "code",
   "execution_count": 23,
   "id": "ddea0b64-5b99-4806-b2dd-60fc2882b487",
   "metadata": {},
   "outputs": [
    {
     "name": "stdout",
     "output_type": "stream",
     "text": [
      "\n",
      "Evaluation sample: 30 overlapping months\n"
     ]
    }
   ],
   "source": [
    "# Load original FF5 factors for comparison\n",
    "factors_ff5_monthly = pd.read_sql_query(\n",
    "    sql=\"SELECT date, smb, hml, rmw, cma FROM factors_ff5_monthly\",\n",
    "    con=tidy_finance,\n",
    "    parse_dates={\"date\"},\n",
    ")\n",
    "\n",
    "factors_replicated = factors_replicated.merge(factors_ff5_monthly, how=\"inner\", on=\"date\").round(4)\n",
    "\n",
    "print(f\"\\nEvaluation sample: {len(factors_replicated)} overlapping months\")"
   ]
  },
  {
   "cell_type": "markdown",
   "id": "46c01d0c-2e42-4f64-a264-ee28805913f1",
   "metadata": {},
   "source": [
    "### Evaluate SMB Factor"
   ]
  },
  {
   "cell_type": "code",
   "execution_count": null,
   "id": "b75a9031-99f7-4a2d-875a-b39a86b1f582",
   "metadata": {},
   "outputs": [],
   "source": [
    "model_smb = smf.ols(formula=\"smb ~ smb_replicated\", data=factors_replicated).fit()\n",
    "model_smb.summary()"
   ]
  },
  {
   "cell_type": "markdown",
   "id": "7301c30c-4a4e-4964-8a63-06c77ce0a3eb",
   "metadata": {},
   "source": [
    "### Evaluate HML Factor"
   ]
  },
  {
   "cell_type": "code",
   "execution_count": null,
   "id": "8f462e60-8b7c-4736-b881-b17959186595",
   "metadata": {},
   "outputs": [],
   "source": [
    "model_hml = smf.ols(formula=\"hml ~ hml_replicated\", data=factors_replicated).fit()\n",
    "model_hml.summary()"
   ]
  },
  {
   "cell_type": "markdown",
   "id": "7de6837a-800f-45f3-93e3-94482c300704",
   "metadata": {},
   "source": [
    "### Evaluate RMW Factor"
   ]
  },
  {
   "cell_type": "code",
   "execution_count": null,
   "id": "e99f81b9-d7f0-4e6c-9a57-d23d1980e471",
   "metadata": {},
   "outputs": [],
   "source": [
    "model_rmw = smf.ols(formula=\"rmw ~ rmw_replicated\", data=factors_replicated).fit()\n",
    "model_rmw.summary()"
   ]
  },
  {
   "cell_type": "markdown",
   "id": "fa574cdb-b104-4432-aa8e-b6b289e6156b",
   "metadata": {},
   "source": [
    "### Evaluate CMA Factor"
   ]
  },
  {
   "cell_type": "code",
   "execution_count": null,
   "id": "04afd19b-4610-4dbc-8082-63a54fa44ac5",
   "metadata": {},
   "outputs": [],
   "source": [
    "model_cma = smf.ols(formula=\"cma ~ cma_replicated\", data=factors_replicated).fit()\n",
    "model_cma.summary()"
   ]
  },
  {
   "cell_type": "markdown",
   "id": "ee7f5980-86fc-4e8c-8ee0-c8f75325abeb",
   "metadata": {},
   "source": [
    "## Summary\n",
    "\n",
    " We have successfully replicated the Fama-French five-factor model:\n",
    " - Portfolio assignments saved to CSV files\n",
    " - All factors (SMB, HML, RMW, CMA) show strong correlation with original FF data\n",
    " - Regression R-squared values indicate high replication quality\n",
    "\n",
    " The portfolio weights can now be used with daily returns to calculate daily factors."
   ]
  },
  {
   "cell_type": "markdown",
   "metadata": {},
   "source": []
  },
  {
   "cell_type": "markdown",
   "metadata": {},
   "source": []
  }
 ],
 "metadata": {
  "kernelspec": {
   "display_name": "alpha",
   "language": "python",
   "name": "python3"
  },
  "language_info": {
   "codemirror_mode": {
    "name": "ipython",
    "version": 3
   },
   "file_extension": ".py",
   "mimetype": "text/x-python",
   "name": "python",
   "nbconvert_exporter": "python",
   "pygments_lexer": "ipython3",
   "version": "3.12.10"
  }
 },
 "nbformat": 4,
 "nbformat_minor": 2
}
